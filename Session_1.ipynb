{
  "nbformat": 4,
  "nbformat_minor": 0,
  "metadata": {
    "colab": {
      "provenance": []
    },
    "kernelspec": {
      "name": "python3",
      "display_name": "Python 3"
    },
    "language_info": {
      "name": "python"
    }
  },
  "cells": [
    {
      "cell_type": "markdown",
      "source": [
        "# Task : Session 1\n",
        "Solve these questions own your own and try to test yourself what you have learned in the session.\n",
        "\n",
        "Happy Learning!"
      ],
      "metadata": {
        "id": "A05OG15VqOPF"
      }
    },
    {
      "cell_type": "markdown",
      "source": [
        "### Q1 :- Print the given strings as per stated format.\n",
        "\n",
        "**Given strings**:\n",
        "```\n",
        "\"Data\" \"Science\" \"Mentorship\" \"Program\"\n",
        "\"By\" \"CampusX\"\n",
        "```\n",
        "**Output**:\n",
        "```\n",
        "Data-Science-Mentorship-Program-started-By-CampusX\n",
        "```\n",
        "\n",
        "Concept- [Seperator and End]"
      ],
      "metadata": {
        "id": "2doIXf8bqe9_"
      }
    },
    {
      "cell_type": "code",
      "source": [
        "print(\"Data\",\"Science\",\"Mentorship\",\"Program\",\"Started\",\"By\",\"CampusX\",sep=\"-\")"
      ],
      "metadata": {
        "id": "-em6d3KErDtp",
        "colab": {
          "base_uri": "https://localhost:8080/"
        },
        "outputId": "0a2159cd-9a48-48a0-ba05-d5ab0c6f9b9e"
      },
      "execution_count": null,
      "outputs": [
        {
          "output_type": "stream",
          "name": "stdout",
          "text": [
            "Data-Science-Mentorship-Program-Started-By-CampusX\n"
          ]
        }
      ]
    },
    {
      "cell_type": "markdown",
      "source": [
        "### Q2:- Write a program that will convert celsius value to fahrenheit."
      ],
      "metadata": {
        "id": "1KUpN7ZTrC3_"
      }
    },
    {
      "cell_type": "code",
      "source": [
        "celsius = int(input(\"Enter Celsius : \"))\n",
        "Fahrenheit = (celsius*1.8)+32\n",
        "print(\"Fahrenheit : \",Fahrenheit)"
      ],
      "metadata": {
        "id": "yxKYhYQiqWfj",
        "colab": {
          "base_uri": "https://localhost:8080/"
        },
        "outputId": "76bf1b21-91f1-4c07-9818-3f6619aa8b99"
      },
      "execution_count": null,
      "outputs": [
        {
          "output_type": "stream",
          "name": "stdout",
          "text": [
            "Enter Celsius : 25\n",
            "Fahrenheit :  77.0\n"
          ]
        }
      ]
    },
    {
      "cell_type": "markdown",
      "source": [
        "### Q3:- Take 2 numbers as input from the user.Write a program to swap the numbers without using any special python syntax."
      ],
      "metadata": {
        "id": "RLrOBBJurLB2"
      }
    },
    {
      "cell_type": "code",
      "source": [
        "n1 = int(input(\"Enter n1 : \"))\n",
        "n2 = int(input(\"Enter n2 : \"))\n",
        "temp = n1\n",
        "n1 = n2\n",
        "n2 = temp\n",
        "print(\"n1\",n1)\n",
        "print(\"n2\",n2)"
      ],
      "metadata": {
        "id": "yPn7if0TrJ4F",
        "colab": {
          "base_uri": "https://localhost:8080/"
        },
        "outputId": "4ce7b7ae-595f-47d6-d54d-495af9ac4480"
      },
      "execution_count": null,
      "outputs": [
        {
          "output_type": "stream",
          "name": "stdout",
          "text": [
            "Enter n1 : 5\n",
            "Enter n2 : 3\n",
            "n1 3\n",
            "n2 5\n"
          ]
        }
      ]
    },
    {
      "cell_type": "markdown",
      "source": [
        "### Q4:- Write a program to find the euclidean distance between two coordinates.Take both the coordinates from the user as input."
      ],
      "metadata": {
        "id": "waLCP1bjr7ML"
      }
    },
    {
      "cell_type": "code",
      "source": [
        "x1 = int(input(\"Enter x1 : \"))\n",
        "x2 = int(input(\"Enter x2 : \"))\n",
        "y1 = int(input(\"Enter y1 : \"))\n",
        "y2 = int(input(\"Enter y2 : \"))\n",
        "euclidean = ((((x1-x2)**2)+ ((y1-y2)**2))**(1/2))\n",
        "print(euclidean)"
      ],
      "metadata": {
        "id": "Pl1Sv-xnrxnH",
        "colab": {
          "base_uri": "https://localhost:8080/"
        },
        "outputId": "5e9bb86d-c86d-4264-86be-fbe3d97368a4"
      },
      "execution_count": null,
      "outputs": [
        {
          "output_type": "stream",
          "name": "stdout",
          "text": [
            "Enter x1 : 8\n",
            "Enter x2 : 6\n",
            "Enter y1 : 4\n",
            "Enter y2 : 9\n",
            "5.385164807134504\n"
          ]
        }
      ]
    },
    {
      "cell_type": "markdown",
      "source": [
        "### Q5:- Write a program to find the simple interest when the value of principle,rate of interest and time period is provided by the user.\n"
      ],
      "metadata": {
        "id": "VLrhg-FRsHjR"
      }
    },
    {
      "cell_type": "code",
      "source": [
        "Principle = int(input(\"Enter a value of Principle : \"))\n",
        "RateOfInterset = int(input(\"Enter a value of Rate of Interest : \"))\n",
        "TimePeriod = int(input(\"Enter a value of Time Period : \"))\n",
        "SimpleInterest = ((Principle * RateOfInterset*TimePeriod)/100)\n",
        "print(SimpleInterest)"
      ],
      "metadata": {
        "id": "s40DlReZsTmY",
        "colab": {
          "base_uri": "https://localhost:8080/"
        },
        "outputId": "f1de58e4-b75e-4a12-f011-943cc92b696a"
      },
      "execution_count": null,
      "outputs": [
        {
          "output_type": "stream",
          "name": "stdout",
          "text": [
            "Enter a value of Principle : 2000\n",
            "Enter a value of Rate of Interest : 2\n",
            "Enter a value of Time Period : 3\n",
            "120.0\n"
          ]
        }
      ]
    },
    {
      "cell_type": "markdown",
      "source": [
        "### Q6:- Write a program that will tell the number of dogs and chicken are there when the user will provide the value of total heads and legs.\n",
        "\n",
        "For example:\n",
        "Input:\n",
        "heads -> 4\n",
        "legs -> 12\n",
        "<br>\n",
        "Output:\n",
        "dogs -> 2\n",
        "chicken -> 2\n",
        "\n",
        "\n",
        "\n"
      ],
      "metadata": {
        "id": "LMy0BTUktYKa"
      }
    },
    {
      "cell_type": "code",
      "source": [
        "No_Heads = int(input(\"Enter No. of Heads : \"))\n",
        "No_Legs = int(input(\"Enter No. of Legs : \"))\n",
        "DogsLegs = 4\n",
        "ChickenLegs = 2\n",
        "No_Dogs = 0\n",
        "No_Chicken = 0\n",
        "\n",
        "\n"
      ],
      "metadata": {
        "id": "XSBvJoA4tXaG",
        "colab": {
          "base_uri": "https://localhost:8080/"
        },
        "outputId": "abdd3615-df04-4707-8f9c-14090c6e7d68"
      },
      "execution_count": null,
      "outputs": [
        {
          "output_type": "stream",
          "name": "stdout",
          "text": [
            "Enter No. of Heads : 4\n",
            "Enter No. of Legs : 12\n",
            "1\n"
          ]
        }
      ]
    },
    {
      "cell_type": "markdown",
      "source": [
        "### Q7:- Write a program to find the sum of squares of first n natural numbers where n will be provided by the user."
      ],
      "metadata": {
        "id": "gJ7C5kZYt4BP"
      }
    },
    {
      "cell_type": "code",
      "source": [
        "n = int(input(\"Enter a number : \"))\n",
        "sum = 0\n",
        "for i in range(1,n+1):\n",
        "  i *= i\n",
        "  sum += i\n",
        "print(\"\\nsum is : \",sum)"
      ],
      "metadata": {
        "id": "_tHsmEHzt2nX",
        "colab": {
          "base_uri": "https://localhost:8080/"
        },
        "outputId": "fbbfa73f-7aac-4dff-cf40-4b1cc57ef1ed"
      },
      "execution_count": null,
      "outputs": [
        {
          "output_type": "stream",
          "name": "stdout",
          "text": [
            "Enter a number : 5\n",
            "\n",
            "sum is :  55\n"
          ]
        }
      ]
    },
    {
      "cell_type": "markdown",
      "source": [
        "### Q8:- Given the first 2 terms of an Arithmetic Series.Find the Nth term of the series. Assume all inputs are provided by the user."
      ],
      "metadata": {
        "id": "FHrMM7g-yG1h"
      }
    },
    {
      "cell_type": "code",
      "source": [
        "n1 = int(input(\"Enter a Number 1 : \"))\n",
        "n2 = int(input(\"Enter a Number 2 : \"))\n",
        "num = int(input(\"Enter a Nth term : \"))\n",
        "distance = n2 - n1\n",
        "series = n1+(num-1)*distance\n",
        "print(series)\n"
      ],
      "metadata": {
        "id": "go4_kmZmyVSx",
        "colab": {
          "base_uri": "https://localhost:8080/"
        },
        "outputId": "d199c065-6bd3-475f-b430-5b6a62ed98dc"
      },
      "execution_count": null,
      "outputs": [
        {
          "output_type": "stream",
          "name": "stdout",
          "text": [
            "Enter a Number 1 : 5\n",
            "Enter a Number 2 : 8\n",
            "Enter a Nth term : 15\n",
            "47\n"
          ]
        }
      ]
    },
    {
      "cell_type": "markdown",
      "source": [
        "### Q9:- Given 2 fractions, find the sum of those 2 fractions.Take the numerator and denominator values of the fractions from the user."
      ],
      "metadata": {
        "id": "QgyRX_es1oum"
      }
    },
    {
      "cell_type": "code",
      "source": [
        "numerator1 =  int(input(\"Enter a Nomerator 1 : \"))\n",
        "denominator1 =  int(input(\"Enter a denominator 1 : \"))\n",
        "numerator2 =  int(input(\"Enter a Nomerator 2 : \"))\n",
        "denominator2 =  int(input(\"Enter a denominator 2 : \"))\n",
        "n = (numerator1*denominator2 + numerator2*denominator1)\n",
        "d = (denominator1*denominator2)\n",
        "print(n,\"/\",d)"
      ],
      "metadata": {
        "id": "X05xqFS1yW16",
        "colab": {
          "base_uri": "https://localhost:8080/"
        },
        "outputId": "aa217c28-6551-4856-bbe9-2eddbfa4bb37"
      },
      "execution_count": null,
      "outputs": [
        {
          "output_type": "stream",
          "name": "stdout",
          "text": [
            "Enter a Nomerator 1 : 1\n",
            "Enter a denominator 1 : 2\n",
            "Enter a Nomerator 2 : 3\n",
            "Enter a denominator 2 : 2\n",
            "8 / 4\n"
          ]
        }
      ]
    },
    {
      "cell_type": "markdown",
      "source": [
        "### Q10:- Given the height, width and breadth of a milk tank, you have to find out how many glasses of milk can be obtained? Assume all the inputs are provided by the user.\n",
        "\n",
        "\n",
        "\n",
        "Input:<br>\n",
        "Dimensions of the milk tank<br>\n",
        "H = 20cm, L = 20cm, B = 20cm\n",
        "<br><br>\n",
        "Dimensions of the glass<br>\n",
        "h = 3cm, r = 1cm"
      ],
      "metadata": {
        "id": "eaql38ln13u7"
      }
    },
    {
      "cell_type": "code",
      "source": [
        "Height = int(input(\"enter Height of Milk Tank : \"))\n",
        "Width = int(input(\"Enter Width of Milk Tank : \"))\n",
        "Breadth = int(input(\"Enter Breadth of Milk Tank : \"))\n",
        "\n",
        "heightOfGlass = int(input(\"Enter Glass Height : \"))\n",
        "radius = int(input(\"Enter Glass Radius : \"))\n",
        "\n",
        "VolumeOfTank = Height*Width*Breadth\n",
        "VolumeOfGlass = (3.14*radius*radius)*heightOfGlass\n",
        "\n",
        "Fill = VolumeOfTank/VolumeOfGlass\n",
        "print(Fill//10)"
      ],
      "metadata": {
        "id": "FePZqno74eWv",
        "colab": {
          "base_uri": "https://localhost:8080/"
        },
        "outputId": "e844af82-2116-40ac-c3f5-bd484467be35"
      },
      "execution_count": null,
      "outputs": [
        {
          "output_type": "stream",
          "name": "stdout",
          "text": [
            "enter Height of Milk Tank : 20\n",
            "Enter Width of Milk Tank : 20\n",
            "Enter Breadth of Milk Tank : 20\n",
            "Enter Glass Height : 3\n",
            "Enter Glass Radius : 1\n",
            "84.0\n"
          ]
        }
      ]
    }
  ]
}
