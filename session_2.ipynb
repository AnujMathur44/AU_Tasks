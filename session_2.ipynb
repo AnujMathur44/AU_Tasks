{
  "nbformat": 4,
  "nbformat_minor": 0,
  "metadata": {
    "colab": {
      "provenance": []
    },
    "kernelspec": {
      "name": "python3",
      "display_name": "Python 3"
    },
    "language_info": {
      "name": "python"
    }
  },
  "cells": [
    {
      "cell_type": "markdown",
      "source": [
        "### `Problem 1`: Write a program that will give you in hand monthly salary after deduction on CTC - HRA(10%), DA(5%), PF(3%) and taxes deduction as below:\n",
        "\n",
        "> Salary(Lakhs) : Tax(%)\n",
        "\n",
        "*   Below 5 : 0%\n",
        "*   5-10 : 10%\n",
        "*   10-20 : 20%\n",
        "*   aboove 20 : 30%"
      ],
      "metadata": {
        "id": "w6RlOAXV2PWh"
      }
    },
    {
      "cell_type": "code",
      "source": [
        "Annual_Salary=int(input(\"Enter your salary in lakh\"))\n",
        "hra = Annual_Salary*0.10\n",
        "da = Annual_Salary*0.05\n",
        "pf = Annual_Salary*0.03\n",
        "if(Annual_Salary<500000):\n",
        "  tax=Annual_Salary*0\n",
        "elif(Annual_Salary>=500000 or Annual_Salary<=1000000):\n",
        "  tax=Annual_Salary*0.10\n",
        "elif(Annual_Salary>1000000 or Annual_Salary<=2000000):\n",
        "  tax=Annual_Salary*0.20\n",
        "else:\n",
        "  tax=Annual_Salary*0.30\n",
        "TotalSalary=Annual_Salary-hra-da-pf-tax\n",
        "print(\"salary: \",TotalSalary)"
      ],
      "metadata": {
        "id": "7tMHvKYO2etI",
        "colab": {
          "base_uri": "https://localhost:8080/"
        },
        "outputId": "566dd699-5ca3-4ee7-b64a-50755e658763"
      },
      "execution_count": null,
      "outputs": [
        {
          "output_type": "stream",
          "name": "stdout",
          "text": [
            "your excact salary in lakhs1200000\n",
            "your in hand salary is  864000.0\n"
          ]
        }
      ]
    },
    {
      "cell_type": "markdown",
      "source": [
        "### `Problem 2`: Write a program that take a user input of three angles and will find out whether it can form a triangle or not."
      ],
      "metadata": {
        "id": "tYzCGqwl2hfN"
      }
    },
    {
      "cell_type": "code",
      "source": [
        "Input_Angle1 = int(input(\"Enter Angle 1 : \"))\n",
        "Input_Angle2 = int(input(\"Enter Angle 2 : \"))\n",
        "Input_Angle3 = int(input(\"Enter Angle 3 : \"))\n",
        "\n",
        "sum = Input_Angle1 + Input_Angle2 + Input_Angle3\n",
        "\n",
        "if sum == 180:\n",
        "  print(\"Its a Triangle !!!\")\n",
        "else:\n",
        "  print(\"Its not a Triangle !!\")"
      ],
      "metadata": {
        "id": "FYEqln-I2kxV",
        "colab": {
          "base_uri": "https://localhost:8080/"
        },
        "outputId": "6ec4adc0-1502-46f6-ecb8-1c117f5c9bb0"
      },
      "execution_count": null,
      "outputs": [
        {
          "output_type": "stream",
          "name": "stdout",
          "text": [
            "Enter Angle 1 : 60\n",
            "Enter Angle 2 : 60\n",
            "Enter Angle 3 : 60\n",
            "Its an Triangle !!!\n"
          ]
        }
      ]
    },
    {
      "cell_type": "markdown",
      "source": [
        "### `Problem 3`: Write a program that will take user input of cost price and selling price and determines whether its a loss or a profit."
      ],
      "metadata": {
        "id": "5vEpPh8C2pE4"
      }
    },
    {
      "cell_type": "code",
      "source": [
        "Cost_Price = int(input(\"Enter Cost Price : \"))\n",
        "Selling_Price = int(input(\"Enter Selling Price : \"))\n",
        "\n",
        "profit = Selling_Price - Cost_Price\n",
        "\n",
        "if Selling_Price > Cost_Price:\n",
        "  print(\"You got a Profit !! \")\n",
        "  print(\"Profit : \",profit)\n",
        "elif Selling_Price < Cost_Price:\n",
        "  print(\"You got a Loss !! \\nImprove \")\n",
        "  print(\"Loss : \",profit)"
      ],
      "metadata": {
        "id": "jDwBXlkO2sfl",
        "colab": {
          "base_uri": "https://localhost:8080/"
        },
        "outputId": "94a51ab4-916e-497a-a513-132dff852128"
      },
      "execution_count": null,
      "outputs": [
        {
          "output_type": "stream",
          "name": "stdout",
          "text": [
            "Enter Cost Price : 10000\n",
            "Enter Selling Price : 12000\n",
            "You got a Profit !! \n",
            "Profit :  2000\n"
          ]
        }
      ]
    },
    {
      "cell_type": "markdown",
      "source": [
        "### `Problem 4`: Write a menu-driven program -\n",
        "1. cm to ft\n",
        "2. km to miles\n",
        "3. USD to INR\n",
        "4. exit"
      ],
      "metadata": {
        "id": "J_FG_cJW2ugT"
      }
    },
    {
      "cell_type": "code",
      "source": [
        "n = int(input(\"\\n1. Cm to Feet \\n2. Km to Miles \\n3. USD to INR \\n4. Exit \\nEnter a Value : \"))\n",
        "if n == 1:\n",
        "  cm = input(\"Enter Centimeter : \")\n",
        "  cm = float(cm)\n",
        "  feet = cm/30.48\n",
        "  print(f\"{cm}cm converted into ft : \",feet)\n",
        "elif n == 2 :\n",
        "  km = input(\"Enter Kilometers : \")\n",
        "  km = float(km)\n",
        "  miles = km*0.621\n",
        "  print(f\"{km}km converted into miles : \",miles)\n",
        "elif n == 3:\n",
        "  usd = input(\"Enter USD : \")\n",
        "  usd = float(usd)\n",
        "  ExchangeRate = float(input(\"Enter Exchange rate : \"))\n",
        "  inr = usd * ExchangeRate\n",
        "  print(f\"{usd}USD Converted into INR {float(inr)}\")\n",
        "elif n >= 4:\n",
        "  print(\"Exit !!!\")"
      ],
      "metadata": {
        "id": "yBHhaCGQ2zpD",
        "colab": {
          "base_uri": "https://localhost:8080/"
        },
        "outputId": "b202566c-fbef-44ce-a6bb-92fa6b8c1888"
      },
      "execution_count": null,
      "outputs": [
        {
          "output_type": "stream",
          "name": "stdout",
          "text": [
            "\n",
            "1. Cm to Feet \n",
            "2. Km to Miles \n",
            "3. USD to INR \n",
            "4. Exit \n",
            "Enter a Value : 5\n",
            "Exit !!!\n"
          ]
        }
      ]
    },
    {
      "cell_type": "markdown",
      "source": [
        "### `Problem 5` - Exercise 12: Display Fibonacci series up to 10 terms.\n",
        "\n",
        "*Note: The Fibonacci Sequence is a series of numbers. The next number is found by adding up the two numbers before it. The first two numbers are 0 and 1. For example, 0, 1, 1, 2, 3, 5, 8, 13, 21. The next number in this series above is 13+21 = 34*"
      ],
      "metadata": {
        "id": "LJJ30_Yw27ZU"
      }
    },
    {
      "cell_type": "code",
      "source": [
        "n = int(input(\"Enter a number : \"))\n",
        "n1 = 0\n",
        "n2 = 1\n",
        "print(n1,n2,end=\" \")\n",
        "for i in range(n):\n",
        "  n3 = n2+n1\n",
        "  n1 = n2\n",
        "  n2 = n3\n",
        "  print(n3 ,end = \" \")\n"
      ],
      "metadata": {
        "id": "ae_1rpe52-5R",
        "colab": {
          "base_uri": "https://localhost:8080/"
        },
        "outputId": "307312ad-3aa7-4223-be1f-9afeac36eb73"
      },
      "execution_count": null,
      "outputs": [
        {
          "output_type": "stream",
          "name": "stdout",
          "text": [
            "Enter a number : 5\n",
            "0 1 1 2 3 5 8 "
          ]
        }
      ]
    },
    {
      "cell_type": "markdown",
      "source": [
        "### `Problem 6` - Find the factorial of a given number.\n",
        "\n",
        "Write a program to use the loop to find the factorial of a given number.\n",
        "\n",
        "The factorial (symbol: `!`) means to multiply all whole numbers from the chosen number down to 1.\n",
        "\n",
        "For example: calculate the factorial of 5\n",
        "\n",
        "```bash\n",
        "5! = 5 × 4 × 3 × 2 × 1 = 120\n",
        "```\n",
        "\n",
        "Output:\n",
        "\n",
        "```bash\n",
        "120\n",
        "```"
      ],
      "metadata": {
        "id": "pk_I_S4m3PT5"
      }
    },
    {
      "cell_type": "code",
      "source": [
        "n = int(input(\"Enter a Number : \"))\n",
        "total = 1\n",
        "for i in range(n,0,-1):\n",
        "  if i == 1:\n",
        "    print(1)\n",
        "  elif i >= 1:\n",
        "    print(i,end = \" x \")\n",
        "    total *= i\n",
        "print(f\"\\nFactorial of {n} :\",total)"
      ],
      "metadata": {
        "id": "lzXxHegx3Rkc",
        "colab": {
          "base_uri": "https://localhost:8080/"
        },
        "outputId": "80f438bf-6316-49f0-ac68-1516397a9cbb"
      },
      "execution_count": null,
      "outputs": [
        {
          "output_type": "stream",
          "name": "stdout",
          "text": [
            "Enter a Number : 5\n",
            "5 x 4 x 3 x 2 x 1\n",
            "\n",
            "Factorial of 5 : 120\n"
          ]
        }
      ]
    },
    {
      "cell_type": "markdown",
      "source": [
        "### `Problem 7` - Reverse a given integer number.\n",
        "\n",
        "Example:\n",
        "\n",
        "`Input:`\n",
        "\n",
        "```bash\n",
        "76542\n",
        "```\n",
        "\n",
        "`Output:`\n",
        "\n",
        "```bash\n",
        "24567\n",
        "```"
      ],
      "metadata": {
        "id": "-17IOi-g3UpU"
      }
    },
    {
      "cell_type": "code",
      "source": [
        "n = int(input(\"Enter a Number : \"))\n",
        "last_digit = 0\n",
        "reverse = 0\n",
        "while n > 0:\n",
        "  last_digit = n%10\n",
        "  reverse = reverse*10 + last_digit\n",
        "  n = n//10\n",
        "print(reverse)\n"
      ],
      "metadata": {
        "id": "wJwLpKCr3aVA",
        "colab": {
          "base_uri": "https://localhost:8080/"
        },
        "outputId": "c846475c-aef1-493d-bb09-33c6dae91c1f"
      },
      "execution_count": null,
      "outputs": [
        {
          "output_type": "stream",
          "name": "stdout",
          "text": [
            "Enter a Number : 76542\n",
            "24567\n"
          ]
        }
      ]
    },
    {
      "cell_type": "markdown",
      "source": [
        "### `Problem 8`: Take a user input as integer N. Find out the sum from 1 to N. If any number if divisible by 5, then skip that number. And if the sum is greater than 300, don't need to calculate the sum further more. Print the final result. And don't use for loop to solve this problem.\n",
        "\n",
        "**Example 1:**\n",
        "\n",
        "`Input:`\n",
        "\n",
        "```bash\n",
        "30\n",
        "```\n",
        "\n",
        "`Output:`\n",
        "\n",
        "```bash\n",
        "276\n",
        "```"
      ],
      "metadata": {
        "id": "-t8PJQaY3sHf"
      }
    },
    {
      "cell_type": "code",
      "source": [
        "n = int(input(\"Enter a Number : \"))\n",
        "i = 1\n",
        "total = 0\n",
        "while i <= n:\n",
        "  if i % 5 == 0:\n",
        "    i += 1\n",
        "    continue\n",
        "  if total +i> 300:\n",
        "    break\n",
        "    total += i\n",
        "    i += 1\n",
        "print(total,end=\" \")"
      ],
      "metadata": {
        "id": "GZB6mGMP3ujT",
        "colab": {
          "base_uri": "https://localhost:8080/"
        },
        "outputId": "77ab7785-8f03-4c45-8e38-3b7f8ef1729c"
      },
      "execution_count": null,
      "outputs": [
        {
          "output_type": "stream",
          "name": "stdout",
          "text": [
            "Enter a Number : 30\n",
            "276 "
          ]
        }
      ]
    },
    {
      "cell_type": "markdown",
      "source": [
        "### `Problem 9`: Write a program that keeps on accepting a number from the user until the user enters Zero. Display the sum and average of all the numbers."
      ],
      "metadata": {
        "id": "Q7ggImeA3xm4"
      }
    },
    {
      "cell_type": "code",
      "source": [
        "n = int(input(\"Enter a value : \"))\n",
        "sum = 0\n",
        "avg = 0\n",
        "while n > 0:\n",
        "  if n == 0 :\n",
        "    print(\"Not Accepting !!\")\n",
        "    break\n",
        "  elif n > 0:\n",
        "    sum += n\n",
        "    avg += 1\n",
        "    print(\"Acceting\")\n",
        "    n = int(input(\"Enter a value : \"))\n",
        "\n",
        "print(\"Sum of Accepting Values : \",sum)\n",
        "average = (sum/avg)\n",
        "print(\"Average of Accepting Values : \",average)\n"
      ],
      "metadata": {
        "id": "t_YDSZDe4Kdo",
        "colab": {
          "base_uri": "https://localhost:8080/"
        },
        "outputId": "53c36056-838b-4ed4-e424-976aa9b7fc2d"
      },
      "execution_count": null,
      "outputs": [
        {
          "output_type": "stream",
          "name": "stdout",
          "text": [
            "Enter a value : 5\n",
            "Acceting\n",
            "Enter a value : 5\n",
            "Acceting\n",
            "Enter a value : 5\n",
            "Acceting\n",
            "Enter a value : 0\n",
            "Sum of Accepting Values :  15\n",
            "Average of Accepting Values :  5.0\n"
          ]
        }
      ]
    },
    {
      "cell_type": "markdown",
      "source": [
        "###`Problem 9`: Write a program which will find all such numbers which are divisible by 7 but are not a multiple of 5, between 2000 and 3200 (both included). The numbers obtained should be printed in a comma-separated sequence on a single line."
      ],
      "metadata": {
        "id": "6EhvEMvm4R7s"
      }
    },
    {
      "cell_type": "code",
      "source": [
        "for i in range(2000,3200+1):\n",
        "  if i%7==0 and i%5!=0:\n",
        "    print(i,end =\",\")"
      ],
      "metadata": {
        "id": "d6RgP1B34T6c",
        "colab": {
          "base_uri": "https://localhost:8080/"
        },
        "outputId": "c5b55b62-6676-4947-e123-011126d4e0ee"
      },
      "execution_count": null,
      "outputs": [
        {
          "output_type": "stream",
          "name": "stdout",
          "text": [
            "2002,2009,2016,2023,2037,2044,2051,2058,2072,2079,2086,2093,2107,2114,2121,2128,2142,2149,2156,2163,2177,2184,2191,2198,2212,2219,2226,2233,2247,2254,2261,2268,2282,2289,2296,2303,2317,2324,2331,2338,2352,2359,2366,2373,2387,2394,2401,2408,2422,2429,2436,2443,2457,2464,2471,2478,2492,2499,2506,2513,2527,2534,2541,2548,2562,2569,2576,2583,2597,2604,2611,2618,2632,2639,2646,2653,2667,2674,2681,2688,2702,2709,2716,2723,2737,2744,2751,2758,2772,2779,2786,2793,2807,2814,2821,2828,2842,2849,2856,2863,2877,2884,2891,2898,2912,2919,2926,2933,2947,2954,2961,2968,2982,2989,2996,3003,3017,3024,3031,3038,3052,3059,3066,3073,3087,3094,3101,3108,3122,3129,3136,3143,3157,3164,3171,3178,3192,3199,"
          ]
        }
      ]
    },
    {
      "cell_type": "markdown",
      "source": [
        "###`Problem 10`: Write a program, which will find all such numbers between 1000 and 3000 (both included) such that each digit of the number is an even number. The numbers obtained should be printed in a space-separated sequence on a single line.\n",
        "\n"
      ],
      "metadata": {
        "id": "tYvmRR-G4Vp4"
      }
    },
    {
      "cell_type": "code",
      "source": [
        "for i in range(1000,3001):\n",
        "  number = i\n",
        "  while number > 0:\n",
        "    last_value =  number%10\n",
        "    if last_value % 2 != 0:\n",
        "      break\n",
        "    number = number//10\n",
        "  else:\n",
        "    print(i,end=\" \")"
      ],
      "metadata": {
        "id": "k6Gs1kIf4k19",
        "colab": {
          "base_uri": "https://localhost:8080/"
        },
        "outputId": "be2c988e-98c1-4c81-a879-deeb4545b903"
      },
      "execution_count": null,
      "outputs": [
        {
          "output_type": "stream",
          "name": "stdout",
          "text": [
            "2000 2002 2004 2006 2008 2020 2022 2024 2026 2028 2040 2042 2044 2046 2048 2060 2062 2064 2066 2068 2080 2082 2084 2086 2088 2200 2202 2204 2206 2208 2220 2222 2224 2226 2228 2240 2242 2244 2246 2248 2260 2262 2264 2266 2268 2280 2282 2284 2286 2288 2400 2402 2404 2406 2408 2420 2422 2424 2426 2428 2440 2442 2444 2446 2448 2460 2462 2464 2466 2468 2480 2482 2484 2486 2488 2600 2602 2604 2606 2608 2620 2622 2624 2626 2628 2640 2642 2644 2646 2648 2660 2662 2664 2666 2668 2680 2682 2684 2686 2688 2800 2802 2804 2806 2808 2820 2822 2824 2826 2828 2840 2842 2844 2846 2848 2860 2862 2864 2866 2868 2880 2882 2884 2886 2888 "
          ]
        }
      ]
    },
    {
      "cell_type": "markdown",
      "source": [
        "###`Problem 11`: A robot moves in a plane starting from the original point (0,0). The robot can move toward UP, DOWN, LEFT and RIGHT with a given steps.\n",
        "The trace of robot movement is shown as the following:\n",
        "```\n",
        "UP 5\n",
        "DOWN 3\n",
        "LEFT 3\n",
        "RIGHT 2\n",
        "!\n",
        "```\n",
        "> The numbers after the direction are steps.\n",
        "\n",
        "> `!` means robot stop there.\n",
        "\n",
        "**Please write a program to compute the distance from current position after a sequence of movement and original point.**\n",
        "\n",
        "*If the distance is a float, then just print the nearest integer.*\n",
        "\n",
        "Example:\n",
        "\n",
        "`Input`:\n",
        "```\n",
        "UP 5\n",
        "DOWN 3\n",
        "LEFT 3\n",
        "RIGHT 2\n",
        "!\n",
        "```\n",
        "`Output`:\n",
        "```\n",
        "2\n",
        "```"
      ],
      "metadata": {
        "id": "GV18IINT4mf5"
      }
    },
    {
      "cell_type": "code",
      "source": [
        "# Write code here"
      ],
      "metadata": {
        "id": "6UNMC2aR4w5x"
      },
      "execution_count": null,
      "outputs": []
    },
    {
      "cell_type": "markdown",
      "source": [
        "###`Problem 12`:Write a program to print whether a given number is a prime number or not"
      ],
      "metadata": {
        "id": "3fsAIAhK5GYY"
      }
    },
    {
      "cell_type": "code",
      "source": [
        "n = int(input(\"Enter a number : \"))\n",
        "temp = n**0.5\n",
        "temp = int(temp)\n",
        "for i in range(2,temp+1):\n",
        "  if n%i == 0:\n",
        "    print(\"Its not a prime number  !!\")\n",
        "    break\n",
        "else:\n",
        "  print(\"Its a Prime Number\")"
      ],
      "metadata": {
        "id": "j6y91lxy5LZs",
        "colab": {
          "base_uri": "https://localhost:8080/"
        },
        "outputId": "52c5eb04-9163-4518-8a43-4dff430bd6dc"
      },
      "execution_count": null,
      "outputs": [
        {
          "output_type": "stream",
          "name": "stdout",
          "text": [
            "Enter a number : 7\n",
            "Its a Prime Number\n"
          ]
        }
      ]
    },
    {
      "cell_type": "markdown",
      "source": [
        "###`Problem 13`:Print all the Armstrong numbers in a given range.\n",
        "Range will be provided by the user<br>\n",
        "Armstrong number is a number that is equal to the sum of cubes of its digits. For example 0, 1, 153, 370, 371 and 407 are the Armstrong numbers."
      ],
      "metadata": {
        "id": "asAbmbK-5NHv"
      }
    },
    {
      "cell_type": "code",
      "source": [
        "last_value = 0\n",
        "start = int(input(\"Enter Starting Value : \"))\n",
        "Ending = int(input(\"Enter Ending Value : \"))\n",
        "for i in range(start,Ending+1):\n",
        "  number = i\n",
        "  total = 0\n",
        "  while number > 0:\n",
        "    last_value = number%10\n",
        "    cube = last_value**3\n",
        "    total += cube\n",
        "    number = number//10\n",
        "  if total == i :\n",
        "    print(i,end = \" \")"
      ],
      "metadata": {
        "id": "PZuI67pm5jCT",
        "colab": {
          "base_uri": "https://localhost:8080/"
        },
        "outputId": "f338fda3-29c7-465e-951d-71742bc189f9"
      },
      "execution_count": null,
      "outputs": [
        {
          "output_type": "stream",
          "name": "stdout",
          "text": [
            "Enter Starting Value : 0\n",
            "Enter Ending Value : 500\n",
            "0 1 153 370 371 407 "
          ]
        }
      ]
    },
    {
      "cell_type": "markdown",
      "source": [
        "###`Problem 14`:Calculate the angle between the hour hand and minute hand.\n",
        "\n",
        "Note: There can be two angles between hands; we need to print a minimum of two. Also, we need to print the floor of the final result angle. For example, if the final angle is 10.61, we need to print 10.\n",
        "\n",
        "Input:<br>\n",
        "H = 9 , M = 0<br>\n",
        "Output:<br>\n",
        "90<br>\n",
        "Explanation:<br>\n",
        "The minimum angle between hour and minute\n",
        "hand when the time is 9 is 90 degress."
      ],
      "metadata": {
        "id": "ClCQZMqT7gK0"
      }
    },
    {
      "cell_type": "code",
      "source": [
        "H=int(input(\"hour : \"))\n",
        "M=int(input(\"minute :\"))\n",
        "Hour_Angle=30*H+0.5*M\n",
        "Minute_Angle=6*M\n",
        "if Hour_Angle > Minute_Angle:\n",
        "  angle=Hour_Angle-Minute_Angle\n",
        "else:\n",
        "  angle=Minute_Angle-Hour_Angle\n",
        "if angle > 180:\n",
        "  final_angle = 360 - angle\n",
        "else:\n",
        "  final_angle = angle\n",
        "final=int(final_angle)\n",
        "print(final)"
      ],
      "metadata": {
        "id": "tNBTCZML7jy_",
        "colab": {
          "base_uri": "https://localhost:8080/"
        },
        "outputId": "33379684-7092-4276-df86-6676a122c595"
      },
      "execution_count": 1,
      "outputs": [
        {
          "output_type": "stream",
          "name": "stdout",
          "text": [
            "hour : 9\n",
            "minute :0\n",
            "90\n"
          ]
        }
      ]
    },
    {
      "cell_type": "markdown",
      "source": [
        "###`Problem 15`:Given two rectangles, find if the given two rectangles overlap or not. A rectangle is denoted by providing the x and y coordinates of two points: the left top corner and the right bottom corner of the rectangle. Two rectangles sharing a side are considered overlapping. (L1 and R1 are the extreme points of the first rectangle and L2 and R2 are the extreme points of the second rectangle).\n",
        "\n",
        "Note: It may be assumed that the rectangles are parallel to the coordinate axis.\n",
        "\n",
        "<img src='https://www.geeksforgeeks.org/wp-content/uploads/rectanglesOverlap.png' width='300' height='200'>"
      ],
      "metadata": {
        "id": "GwacF9Co72Qc"
      }
    },
    {
      "cell_type": "code",
      "source": [
        "l1 = (0,10)\n",
        "r1 = (10,0)\n",
        "\n",
        "l2 = (5,5)\n",
        "r2 = (15,5)\n",
        "\n",
        "if(r1[0]<l2[0] or r2[0]<l1[0] or l2[1]<r1[1] or l1[1]<r2[1]):\n",
        "  print(\"Rectangle are not overlapping !!\")\n",
        "else:\n",
        "  print(\"Rectangle are overlapping !!\")"
      ],
      "metadata": {
        "id": "6rrw_lpH78Rs",
        "colab": {
          "base_uri": "https://localhost:8080/"
        },
        "outputId": "236d532a-f3e3-4a51-c074-f48f4fd3c74d"
      },
      "execution_count": null,
      "outputs": [
        {
          "output_type": "stream",
          "name": "stdout",
          "text": [
            "Rectangle are overlapping !!\n"
          ]
        }
      ]
    },
    {
      "cell_type": "code",
      "source": [
        "N = int(input(\"Enter a number: \"))\n",
        "i = 1\n",
        "total = 0\n",
        "\n",
        "while i <= N:\n",
        "    if i % 5 == 0:\n",
        "        i += 1\n",
        "        continue\n",
        "    if total +i> 300:\n",
        "        break\n",
        "    total += i\n",
        "    i += 1\n",
        "\n",
        "print(total)"
      ],
      "metadata": {
        "colab": {
          "base_uri": "https://localhost:8080/"
        },
        "id": "k3MQmjnC_l63",
        "outputId": "afc198d0-ef58-4d9f-b9cc-714261962cb6"
      },
      "execution_count": null,
      "outputs": [
        {
          "output_type": "stream",
          "name": "stdout",
          "text": [
            "Enter a number: 30\n",
            "276\n"
          ]
        }
      ]
    },
    {
      "cell_type": "code",
      "source": [
        "for i in range(1000,3001):\n",
        "  t=i\n",
        "  while(t>0):\n",
        "    digit=t%10\n",
        "    if(digit%2!=0):\n",
        "      break\n",
        "    t=t//10\n",
        "  else:\n",
        "    print(i , end='  ')"
      ],
      "metadata": {
        "colab": {
          "base_uri": "https://localhost:8080/"
        },
        "id": "Uvf1Pnz3_mrz",
        "outputId": "a601c989-19f2-4d31-eb94-e9e4d4818322"
      },
      "execution_count": null,
      "outputs": [
        {
          "output_type": "stream",
          "name": "stdout",
          "text": [
            "2000  2002  2004  2006  2008  2020  2022  2024  2026  2028  2040  2042  2044  2046  2048  2060  2062  2064  2066  2068  2080  2082  2084  2086  2088  2200  2202  2204  2206  2208  2220  2222  2224  2226  2228  2240  2242  2244  2246  2248  2260  2262  2264  2266  2268  2280  2282  2284  2286  2288  2400  2402  2404  2406  2408  2420  2422  2424  2426  2428  2440  2442  2444  2446  2448  2460  2462  2464  2466  2468  2480  2482  2484  2486  2488  2600  2602  2604  2606  2608  2620  2622  2624  2626  2628  2640  2642  2644  2646  2648  2660  2662  2664  2666  2668  2680  2682  2684  2686  2688  2800  2802  2804  2806  2808  2820  2822  2824  2826  2828  2840  2842  2844  2846  2848  2860  2862  2864  2866  2868  2880  2882  2884  2886  2888  "
          ]
        }
      ]
    }
  ]
}
