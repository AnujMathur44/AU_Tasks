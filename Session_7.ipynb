{
  "nbformat": 4,
  "nbformat_minor": 0,
  "metadata": {
    "colab": {
      "provenance": []
    },
    "kernelspec": {
      "name": "python3",
      "display_name": "Python 3"
    },
    "language_info": {
      "name": "python"
    }
  },
  "cells": [
    {
      "cell_type": "markdown",
      "source": [
        "##`Q-1:` Rectangle Class\n",
        "1. Write a Rectangle class in Python language, allowing you to build a rectangle with length and width attributes.\n",
        "\n",
        "2. Create a Perimeter() method to calculate the perimeter of the rectangle and a Area() method to calculate the area of ​​the rectangle.\n",
        "\n",
        "3. Create a method display() that display the length, width, perimeter and area of an object created using an instantiation on rectangle class."
      ],
      "metadata": {
        "id": "FyUJ3PRAsPr4"
      }
    },
    {
      "cell_type": "markdown",
      "source": [
        "Eg.\n",
        "After making above classes and methods, on executing below code:-\n",
        "```\n",
        "my_rectangle = Rectangle(3 , 4)\n",
        "my_rectangle.display()\n",
        "```\n",
        "\n",
        "`Output:`\n",
        "```\n",
        "The length of rectangle is:  3\n",
        "The width of rectangle is:  4\n",
        "The perimeter of rectangle is:  14\n",
        "The area of rectangle is:  12\n",
        "```\n"
      ],
      "metadata": {
        "id": "GxUtOqJfssFK"
      }
    },
    {
      "cell_type": "code",
      "source": [
        "class Rectangle:\n",
        "  def __init__(self,length,width):\n",
        "    self.length = length\n",
        "    self.width = width\n",
        "  def display(self):\n",
        "    perimeter = 2 * (self.length + self.width)\n",
        "    area = self.length * self.width\n",
        "    print(f\"The length of rectangle is: {self.length}\")\n",
        "    print(f\"The width of rectangle is: {self.width}\")\n",
        "    print(f\"The perimeter of rectangle is: {perimeter}\")\n",
        "    print(f\"The area of rectangle is : {area}\")\n",
        "\n",
        "my_rectangle = Rectangle(3 , 4)\n",
        "my_rectangle.display()"
      ],
      "metadata": {
        "id": "92_QT-Uj6NBg",
        "colab": {
          "base_uri": "https://localhost:8080/"
        },
        "outputId": "a678863b-d674-47f4-a5eb-65fa6353b18f"
      },
      "execution_count": null,
      "outputs": [
        {
          "output_type": "stream",
          "name": "stdout",
          "text": [
            "The length of rectangle is: 3\n",
            "The width of rectangle is: 4\n",
            "The perimeter of rectangle is: 14\n",
            "The area of rectangle is : 12\n"
          ]
        }
      ]
    },
    {
      "cell_type": "markdown",
      "source": [
        "##`Q-2: Bank Class`\n",
        "\n",
        "1. Create a Python class called `BankAccount` which represents a bank account, having as attributes: `accountNumber` (numeric type), `name` (name of the account owner as string type), `balance`.\n",
        "2. Create a constructor with parameters: `accountNumber, name, balance`.\n",
        "3. Create a `Deposit()` method which manages the deposit actions.\n",
        "4. Create a `Withdrawal()` method  which manages withdrawals actions.\n",
        "5. Create an `bankFees()` method to apply the bank fees with a percentage of 5% of the balance account.\n",
        "6. Create a `display()` method to display account details.\n",
        "Give the complete code for the  BankAccount class."
      ],
      "metadata": {
        "id": "r_GxrS0Vrdom"
      }
    },
    {
      "cell_type": "markdown",
      "source": [
        "Eg.\n",
        "After making above classes and methods, on executing below code:-\n",
        "```\n",
        "newAccount = BankAccount(2178514584, \"Mandy\" , 2800)\n",
        "\n",
        "newAccount.Withdrawal(700)\n",
        "\n",
        "newAccount.Deposit(1000)\n",
        "\n",
        "newAccount.display()\n",
        "```\n",
        "\n",
        "`Output:`\n",
        "```\n",
        "Account Number :  2178514584\n",
        "Account Name :  Mandy\n",
        "Account Balance :  3100 ₹\n",
        "```"
      ],
      "metadata": {
        "id": "qvVkOUJgvTV_"
      }
    },
    {
      "cell_type": "code",
      "source": [
        "class BankAccount:\n",
        "  def __init__(self,AccountNumber,Name,Balance):\n",
        "    self.AccountNumber = AccountNumber\n",
        "    self.Name = Name\n",
        "    self.Balance = Balance\n",
        "  def Deposit(self,NewMoney):\n",
        "    self.Balance += NewMoney\n",
        "  def Withdrawal(self,RemoveMoney):\n",
        "    self.Balance -= RemoveMoney\n",
        "  def bankfees(self):\n",
        "    AfterFees = self.Balance * (5/100)\n",
        "    AfterFees = int(AfterFees)\n",
        "    print(f\"Balance after 5% of bank fees {AfterFees}\")\n",
        "  def display(self):\n",
        "    print(f\"Account Number :{self.AccountNumber}\")\n",
        "    print(f\"Account Name : {self.Name}\")\n",
        "    print(f\"Account Balance : {self.Balance} ₹\")\n",
        "\n",
        "newAccount = BankAccount(2178514584, \"Mandy\" , 2800)\n",
        "newAccount.Withdrawal(700)\n",
        "newAccount.Deposit(1000)\n",
        "newAccount.display()\n",
        "# newAccount.bankfees()\n"
      ],
      "metadata": {
        "id": "fUQOmQyA6YDR",
        "colab": {
          "base_uri": "https://localhost:8080/"
        },
        "outputId": "4a60ef36-6bda-49ca-c1bd-041bda10bc4c"
      },
      "execution_count": null,
      "outputs": [
        {
          "output_type": "stream",
          "name": "stdout",
          "text": [
            "Account Number :2178514584\n",
            "Account Name : Mandy\n",
            "Account Balance : 3100 ₹\n"
          ]
        }
      ]
    },
    {
      "cell_type": "markdown",
      "source": [
        "##`Q-3:Computation class`\n",
        "\n",
        "1. Create a `Computation` class with a default constructor (without parameters) allowing to perform various calculations on integers numbers.\n",
        "2. Create a method called `Factorial()` which allows to calculate the factorial of an integer n. Integer n as parameter for this method\n",
        "\n",
        "3. Create a method called `naturalSum()` allowing to calculate the sum of the first n integers 1 + 2 + 3 + .. + n. Integer n as parameter for this method.\n",
        "\n",
        "4. Create a method called `testPrime()` in  the Calculation class to test the primality of a given integer n, n is Prime or Not? Integer n as parameter for this method.\n",
        "\n",
        "5. Create  a method called `testPrims()` allowing to test if two numbers are prime between them. Two integers are prime to one another if they have only `1` as their common divisor. Eg. 4 and 9 are prime to each other.\n",
        "\n",
        "5. Create a `tableMult()` method which creates and displays the multiplication table of a given integer. Then create an `allTablesMult()` method to display all the integer multiplication tables 1, 2, 3, ..., 9.\n",
        "\n",
        "6. Create a static `listDiv()` method that gets all the divisors of a given integer on new list called  Ldiv. Create another `listDivPrim()` method that gets all the prime divisors of a given integer."
      ],
      "metadata": {
        "id": "QovcQAZTrgGU"
      }
    },
    {
      "cell_type": "code",
      "source": [
        "import math\n",
        "class Computation :\n",
        "  def Factorial(self,num):\n",
        "    count = 1\n",
        "    for i in range(1,num+1):\n",
        "      count *= i\n",
        "    print(f\"Factorial of {num} is : {count}\")\n",
        "  def NaturalSum(self,num):\n",
        "    sum = 0\n",
        "    for i in range(1,num+1):\n",
        "      sum += i\n",
        "    print(f\"Natural Sum of {num} is : {sum}\")\n",
        "  def TestPrime(self,num):\n",
        "    for i in range(2,int(num**(1/2))+1):\n",
        "      if num % i == 0 :\n",
        "        print(f\"{num} is not a prime number \")\n",
        "        return\n",
        "    print(f\"{num} is a prime number\")\n",
        "  def testPrims(self,num,num2):\n",
        "    hcf = math.gcd(num,num2)\n",
        "    if hcf == 1:\n",
        "      print(f\"{num} and {num2} is a prims number\")\n",
        "      return\n",
        "    print(f\"{num} and {num2} is not a prims number \")\n",
        "  def tablemult(self,num):\n",
        "    for i in range(1,11):\n",
        "      count = num * i\n",
        "      print(f\"{num} X {i} = {count}\")\n",
        "  def alltablemult(self):\n",
        "    for i in range(1,10):\n",
        "      self.tablemult(i)\n",
        "  def listdiv(self, num):\n",
        "    ldiv = []\n",
        "    for i in range(1, 11):\n",
        "      if num % i == 0:\n",
        "        ldiv.append(i)\n",
        "    return ldiv\n",
        "\n",
        "  def listdivprim(self, n):\n",
        "      list2 = []\n",
        "      ldiv = self.listdiv(n)\n",
        "      for i in ldiv:\n",
        "          if i > 1:\n",
        "              for j in range(2, int(i ** 0.5) + 1):\n",
        "                  if i % j == 0:\n",
        "                     break\n",
        "              else:\n",
        "                  list2.append(i)\n",
        "      print(f\"Prime factors of {n} are: {list2}\")\n",
        "\n",
        "\n",
        "b = Computation()\n",
        "b.Factorial(5)\n",
        "b.NaturalSum(5)\n",
        "b.TestPrime(7)\n",
        "b.testPrims(4,9)\n",
        "b.tablemult(2)\n",
        "b.alltablemult()\n",
        "b.listdiv(2)\n",
        "b.listdivprim(12)"
      ],
      "metadata": {
        "id": "YEkPH70l6Z-o",
        "colab": {
          "base_uri": "https://localhost:8080/"
        },
        "outputId": "0a2a1506-ea84-4330-a733-53a8a87d148f"
      },
      "execution_count": 6,
      "outputs": [
        {
          "output_type": "stream",
          "name": "stdout",
          "text": [
            "Factorial of 5 is : 120\n",
            "Natural Sum of 5 is : 15\n",
            "7 is a prime number\n",
            "4 and 9 is a prims number\n",
            "2 X 1 = 2\n",
            "2 X 2 = 4\n",
            "2 X 3 = 6\n",
            "2 X 4 = 8\n",
            "2 X 5 = 10\n",
            "2 X 6 = 12\n",
            "2 X 7 = 14\n",
            "2 X 8 = 16\n",
            "2 X 9 = 18\n",
            "2 X 10 = 20\n",
            "1 X 1 = 1\n",
            "1 X 2 = 2\n",
            "1 X 3 = 3\n",
            "1 X 4 = 4\n",
            "1 X 5 = 5\n",
            "1 X 6 = 6\n",
            "1 X 7 = 7\n",
            "1 X 8 = 8\n",
            "1 X 9 = 9\n",
            "1 X 10 = 10\n",
            "2 X 1 = 2\n",
            "2 X 2 = 4\n",
            "2 X 3 = 6\n",
            "2 X 4 = 8\n",
            "2 X 5 = 10\n",
            "2 X 6 = 12\n",
            "2 X 7 = 14\n",
            "2 X 8 = 16\n",
            "2 X 9 = 18\n",
            "2 X 10 = 20\n",
            "3 X 1 = 3\n",
            "3 X 2 = 6\n",
            "3 X 3 = 9\n",
            "3 X 4 = 12\n",
            "3 X 5 = 15\n",
            "3 X 6 = 18\n",
            "3 X 7 = 21\n",
            "3 X 8 = 24\n",
            "3 X 9 = 27\n",
            "3 X 10 = 30\n",
            "4 X 1 = 4\n",
            "4 X 2 = 8\n",
            "4 X 3 = 12\n",
            "4 X 4 = 16\n",
            "4 X 5 = 20\n",
            "4 X 6 = 24\n",
            "4 X 7 = 28\n",
            "4 X 8 = 32\n",
            "4 X 9 = 36\n",
            "4 X 10 = 40\n",
            "5 X 1 = 5\n",
            "5 X 2 = 10\n",
            "5 X 3 = 15\n",
            "5 X 4 = 20\n",
            "5 X 5 = 25\n",
            "5 X 6 = 30\n",
            "5 X 7 = 35\n",
            "5 X 8 = 40\n",
            "5 X 9 = 45\n",
            "5 X 10 = 50\n",
            "6 X 1 = 6\n",
            "6 X 2 = 12\n",
            "6 X 3 = 18\n",
            "6 X 4 = 24\n",
            "6 X 5 = 30\n",
            "6 X 6 = 36\n",
            "6 X 7 = 42\n",
            "6 X 8 = 48\n",
            "6 X 9 = 54\n",
            "6 X 10 = 60\n",
            "7 X 1 = 7\n",
            "7 X 2 = 14\n",
            "7 X 3 = 21\n",
            "7 X 4 = 28\n",
            "7 X 5 = 35\n",
            "7 X 6 = 42\n",
            "7 X 7 = 49\n",
            "7 X 8 = 56\n",
            "7 X 9 = 63\n",
            "7 X 10 = 70\n",
            "8 X 1 = 8\n",
            "8 X 2 = 16\n",
            "8 X 3 = 24\n",
            "8 X 4 = 32\n",
            "8 X 5 = 40\n",
            "8 X 6 = 48\n",
            "8 X 7 = 56\n",
            "8 X 8 = 64\n",
            "8 X 9 = 72\n",
            "8 X 10 = 80\n",
            "9 X 1 = 9\n",
            "9 X 2 = 18\n",
            "9 X 3 = 27\n",
            "9 X 4 = 36\n",
            "9 X 5 = 45\n",
            "9 X 6 = 54\n",
            "9 X 7 = 63\n",
            "9 X 8 = 72\n",
            "9 X 9 = 81\n",
            "9 X 10 = 90\n",
            "Prime factors of 12 are: [2, 3]\n"
          ]
        }
      ]
    },
    {
      "cell_type": "markdown",
      "source": [
        "##`Q-4`: Build flashcard using class in Python.\n",
        "\n",
        "Build a flashcard using class in python. A flashcard is a card having information on both sides, which can be used as an aid in memoization. Flashcards usually have a question on one side and an answer on the other.\n",
        "\n",
        "**Example 1:**\n",
        "\n",
        "Approach:\n",
        "\n",
        "- Create a class named FlashCard.\n",
        "- Initialize dictionary fruits using __init__() method. Here you have to define fruit name as key and it's color as value. E.g., {\"Banana\": \"yellow\", \"Strawberries\": \"pink\"}\n",
        "- Now randomly choose a pair from fruits by using _random_ module and store the key in variable _fruit_ and _value_ in variable color.\n",
        "- Now prompt the user to answer the color of the randomly chosen fruit.\n",
        "- If correct print correct else print wrong.\n",
        "\n",
        "Output:\n",
        "```bash\n",
        "welcome to fruit quiz\n",
        "What is the color of Strawberries\n",
        "pink\n",
        "Correct answer\n",
        "Enter 0, if you want to play again: 0\n",
        "What is the color of watermelon\n",
        "green\n",
        "Correct answer\n",
        "Enter 0, if you want to play again: 1\n",
        "```"
      ],
      "metadata": {
        "id": "0yn23_oEriXa"
      }
    },
    {
      "cell_type": "code",
      "source": [
        "import random\n",
        "class flashcard:\n",
        "  def __init__(self):\n",
        "    self.fruit = {\n",
        "        \"Banana\": \"yellow\",\n",
        "        \"Strawberries\": \"pink\",\n",
        "    }\n",
        "    print(\"welcome to fruit quiz\")\n",
        "  def random(self):\n",
        "    choice = random.choice(list(self.fruit.keys()))\n",
        "    colour = self.fruit[choice]\n",
        "    print(\"what is the colour of\",choice)\n",
        "    UserInput = input(\": \")\n",
        "    if UserInput == colour.lower():\n",
        "      print(\"Correct answer\")\n",
        "    else:\n",
        "      print(\"Wrong answer\")\n",
        "    num = int(input(\"Enter 0 is you want to play again : \"))\n",
        "    if num == 0 :\n",
        "      self.random()\n",
        "a = flashcard()\n",
        "a.random()"
      ],
      "metadata": {
        "id": "vCrUF6VU6l6w",
        "colab": {
          "base_uri": "https://localhost:8080/"
        },
        "outputId": "bd8f2b31-d401-4bd2-8b9b-88ce6d5a1a3e"
      },
      "execution_count": null,
      "outputs": [
        {
          "name": "stdout",
          "output_type": "stream",
          "text": [
            "welcome to fruit quiz\n",
            "what is the colour of Orange\n",
            ": orange\n",
            "Correct answer\n",
            "Enter 0 is you want to play again : 0\n",
            "what is the colour of Grapes\n",
            ": green\n",
            "Correct answer\n",
            "Enter 0 is you want to play again : 0\n",
            "what is the colour of Banana\n",
            ": yellow\n",
            "Correct answer\n",
            "Enter 0 is you want to play again : 0\n",
            "what is the colour of Blueberries\n",
            ": blue\n",
            "Correct answer\n",
            "Enter 0 is you want to play again : 1\n"
          ]
        }
      ]
    },
    {
      "cell_type": "markdown",
      "source": [
        "## `Q-5:` Problem 5 based on OOP Python.\n",
        "\n",
        "TechWorld, a technology training center, wants to allocate courses for instructors. An instructor is identified by name, technology skills, experience and average feedback. An instructor is allocated a course, if he/she satisfies the below two conditions:\n",
        "- eligibility criteria:\n",
        "    - if experience is more than 3 years, average feedback should be 4.5 or more\n",
        "    - if experience is 3 years or less, average feedback should be 4 or more\n",
        "- he/she should posses the technology skill for the course\n",
        "\n",
        "Identify the class name and attributes to represent instructors. Write a Python program to implement the class chosen with its attributes and methods.\n",
        "\n",
        "**Note:**\n",
        "- Consider all instance variables to be private and methods to be public.\n",
        "- An instructor may have multiple technology skills, so consider instance variable, technology_skill to be a list.\n",
        "- *check_eligibility()*: Return true if eligibility criteria is satisfied by the instructor. Else, return false\n",
        "- *allocate_course(technology)*: Return true if the course which requires the given technology can be allocated to the instructor. Else, return false.\n",
        "\n",
        "Represent a few objects of the class, initialize instance variables using setter methods, invoke\n",
        "appropriate methods and test your program."
      ],
      "metadata": {
        "id": "GN2r0jbRewYr"
      }
    },
    {
      "cell_type": "code",
      "source": [
        "class Instructor:\n",
        "  def __init__(self):\n",
        "        self.__Name = \"\"\n",
        "        self.__TechnologySkill = [\"python\", \"java\", \"c\", \"c++\", \"r\", \"php\", \"html\", \"css\"]\n",
        "        self.__Experience = 0\n",
        "        self.__AvgFeedback = 0.0\n",
        "  def SetName(self, name):\n",
        "        self.__Name = name\n",
        "  def SetTechnologySkill(self, skills):\n",
        "        self.__TechnologySkill = skills\n",
        "  def SetExperience(self, experience):\n",
        "        self.__Experience = experience\n",
        "  def SetAvgFeedback(self, feedback):\n",
        "        self.__AvgFeedback = feedback\n",
        "  def CheckEligibility(self):\n",
        "    if self.__Experience > 3 and self.__AvgFeedback >= 4.5:\n",
        "      return True\n",
        "    elif self.__Experience <= 3 and self.__AvgFeedback >= 4.0:\n",
        "      return True\n",
        "    else:\n",
        "      return False\n",
        "  def AllocateCourse(self,technology):\n",
        "    if self.CheckEligibility() and technology in self.__TechnologySkill:\n",
        "      return True\n",
        "    return False\n",
        "  def GetDetails(self):\n",
        "    return {\n",
        "      \"Name\": self.__Name,\n",
        "      \"Skills\": self.__TechnologySkill,\n",
        "      \"Experience\": self.__Experience,\n",
        "      \"Feedback\": self.__AvgFeedback\n",
        "    }\n",
        "\n",
        "a = Instructor()\n",
        "a.SetName(\"lewis\")\n",
        "a.SetTechnologySkill([\"python\"])\n",
        "a.SetExperience(10)\n",
        "a.SetAvgFeedback(4.6)\n",
        "a.AllocateCourse(\"python\")"
      ],
      "metadata": {
        "id": "pdMFuVFnlvKL",
        "colab": {
          "base_uri": "https://localhost:8080/"
        },
        "outputId": "d6996a88-70f5-4188-9ab9-0ae8b0114e42"
      },
      "execution_count": 17,
      "outputs": [
        {
          "output_type": "execute_result",
          "data": {
            "text/plain": [
              "True"
            ]
          },
          "metadata": {},
          "execution_count": 17
        }
      ]
    }
  ]
}
